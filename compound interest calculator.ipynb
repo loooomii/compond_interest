{
 "nbformat": 4,
 "nbformat_minor": 0,
 "metadata": {
  "colab": {
   "provenance": [],
   "authorship_tag": "ABX9TyPG2AUAzeXvacFUXXNkcd4c"
  },
  "kernelspec": {
   "name": "python3",
   "language": "python",
   "display_name": "Python 3 (ipykernel)"
  },
  "language_info": {
   "name": "python"
  }
 },
 "cells": [
  {
   "cell_type": "code",
   "source": [
    "import numpy as np\n",
    "import pandas as pd\n",
    "import math"
   ],
   "metadata": {
    "id": "Yz76nwUniZcL",
    "executionInfo": {
     "status": "ok",
     "timestamp": 1720177078366,
     "user_tz": -540,
     "elapsed": 426,
     "user": {
      "displayName": "M Z",
      "userId": "02992394479283828686"
     }
    },
    "ExecuteTime": {
     "end_time": "2024-11-08T09:57:11.662855Z",
     "start_time": "2024-11-08T09:57:11.659222Z"
    }
   },
   "execution_count": 82,
   "outputs": []
  },
  {
   "cell_type": "code",
   "execution_count": 83,
   "metadata": {
    "id": "aD_zUXsWiHxq",
    "executionInfo": {
     "status": "ok",
     "timestamp": 1720177768419,
     "user_tz": -540,
     "elapsed": 435,
     "user": {
      "displayName": "M Z",
      "userId": "02992394479283828686"
     }
    },
    "ExecuteTime": {
     "end_time": "2024-11-08T09:57:11.676956Z",
     "start_time": "2024-11-08T09:57:11.673226Z"
    }
   },
   "outputs": [],
   "source": [
    "def monthly_return(return_yearly:float, method:str = \"geometric\"):\n",
    "  \"\"\"\n",
    "  Calculate the monthly return of an expected yearly return.\n",
    "  默认使用几何平均数计算每月收益率。\n",
    "  可选算法：geometric, arithmetic(算术平均数)\n",
    "  \"\"\"\n",
    "  if method == \"geometric\":\n",
    "    return pow(1 + return_yearly, 1 / 12) - 1\n",
    "  elif method == \"arithmetic\":\n",
    "    return return_yearly / 12\n",
    "  else:\n",
    "    raise ValueError(\"method should be either 'geometric' or 'arithmetic'\")\n",
    "  "
   ]
  },
  {
   "cell_type": "code",
   "source": [
    "def automatic_investment(return_monthly: float, investment_monthly: float, horizon: float, initial_balance: float = 0, increment: float = 0, incre_period: int = 0):\n",
    "  \"\"\"\n",
    "  Calculate the balance after a certain period of time with a certain monthly investment and monthly return.\n",
    "  suppose the investment is made at the start of each month.\n",
    "  \n",
    "  initial_balance: default 0.\n",
    "  \n",
    "  是否增加定投额的判断\n",
    "  1.是否经过了一年：(i+1) % 12 == 0\n",
    "  2.增加定投额是否为0：increment != 0\n",
    "  3.当前年限是否在增加定投额年限内：year_num <= incre_period\n",
    "  4.判断是否为第一年，第一年不进行增加定投额的操作，增加定投额从第二年开始：year_num != 0\n",
    "  \"\"\"\n",
    "  month_num = horizon * 12\n",
    "  balance = initial_balance + investment_monthly\n",
    "  \n",
    "\n",
    "  for i in range(month_num):\n",
    "    year_num = i // 12\n",
    "    if (i+1) % 12 == 0 and increment != 0 and year_num <= incre_period and year_num != 0:  #判断是否增加定投额\n",
    "      investment_monthly += increment\n",
    "        \n",
    "    balance = balance * (1 + return_monthly) + investment_monthly\n",
    "\n",
    "  return balance"
   ],
   "metadata": {
    "id": "sWIb1s3Vi9nY",
    "executionInfo": {
     "status": "ok",
     "timestamp": 1720178883030,
     "user_tz": -540,
     "elapsed": 437,
     "user": {
      "displayName": "M Z",
      "userId": "02992394479283828686"
     }
    },
    "ExecuteTime": {
     "end_time": "2024-11-08T09:57:11.682601Z",
     "start_time": "2024-11-08T09:57:11.678389Z"
    }
   },
   "execution_count": 84,
   "outputs": []
  },
  {
   "cell_type": "code",
   "outputs": [],
   "source": [
    "def back_to_present(target:str, target_value: float, return_monthly: float, horizon: int, investment_monthly: float = 0, initial_balance: float = 0):\n",
    "  \"\"\"\n",
    "  Calculate the monthly investment value or expected monthly return.\n",
    "  suppose the investment is made at the start of each month.\n",
    "  \n",
    "  target: \"num\" or \"rate\"\n",
    "  “num”：目标为金额\n",
    "  \"rate\": 目标为总收益率\n",
    "  \"horizon\": 投资年限，单位年，整数\n",
    "  \"investment_monthly\": 每月定投金额，单位（万）\n",
    "  \"return_monthly\": 每月收益率\n",
    "  \"initial_balance\": 初始本金，单位（万）\n",
    "  \n",
    "  \"\"\"\n",
    "  # 要求return_monthly or investment monthly\n",
    "  month_num = horizon * 12\n",
    "  \n",
    "  if target == \"num\":\n",
    "    monthly_num = (target_value - initial_balance * pow(1 + return_monthly, month_num)) * \\\n",
    "                  return_monthly / (pow(1 + return_monthly, month_num - 1) - 1)\n",
    "    return monthly_num\n",
    "    \n",
    "  elif target == \"rate\":\n",
    "    pass\n",
    "  \n",
    "  else:\n",
    "    raise ValueError(\"target should be either 'num' or 'rate'\")\n",
    "    \n",
    "  "
   ],
   "metadata": {
    "collapsed": false,
    "ExecuteTime": {
     "end_time": "2024-11-08T09:57:11.696365Z",
     "start_time": "2024-11-08T09:57:11.692489Z"
    }
   },
   "execution_count": 85
  },
  {
   "cell_type": "code",
   "outputs": [],
   "source": [
    "def time_to_target(target_value: float, return_monthly: float, investment_monthly: float, init: float = 0):\n",
    "  \"\"\"\n",
    "  Calculate the time needed to reach the target value with a certain monthly investment and monthly return.\n",
    "  suppose the investment is made at the start of each month.\n",
    "  \n",
    "  init: default 0.\n",
    "  \n",
    "  \"\"\"\n",
    "  month_num = 0\n",
    "  balance = init\n",
    "\n",
    "  while balance < target_value:\n",
    "    balance = balance * (1 + return_monthly) + investment_monthly\n",
    "    month_num += 1\n",
    "\n",
    "  return month_num/12"
   ],
   "metadata": {
    "collapsed": false,
    "ExecuteTime": {
     "end_time": "2024-11-08T09:57:11.702745Z",
     "start_time": "2024-11-08T09:57:11.698856Z"
    }
   },
   "execution_count": 86
  },
  {
   "cell_type": "code",
   "source": [
    "yearly_return = 0.10 # 期待的年化收益率\n",
    "investment_horizon = 20 # 投资年限\n",
    "monthly_investment = 10 # 每月定投金额，单位（万）\n",
    "initial_balance = 0 # 初始本金\n",
    "increment = 0 # 每年增加的定投金额，单位（万）\n",
    "increment_period = 0 # 增加定投金额的年限，比如预计可以连续5年增加，则填5"
   ],
   "metadata": {
    "id": "67MkiL2Ao23w",
    "executionInfo": {
     "status": "ok",
     "timestamp": 1720179151219,
     "user_tz": -540,
     "elapsed": 441,
     "user": {
      "displayName": "M Z",
      "userId": "02992394479283828686"
     }
    },
    "ExecuteTime": {
     "end_time": "2024-11-08T09:57:11.707048Z",
     "start_time": "2024-11-08T09:57:11.704068Z"
    }
   },
   "execution_count": 87,
   "outputs": []
  },
  {
   "cell_type": "code",
   "source": [
    "print(f\"经过{investment_horizon}年的总余额是： {automatic_investment(monthly_return(yearly_return), monthly_investment, investment_horizon, initial_balance, increment, increment_period):.2f} \\n \\\n",
    "共盈利 {automatic_investment(monthly_return(yearly_return), monthly_investment, investment_horizon, initial_balance, increment, increment_period) - (investment_horizon*12*monthly_investment+12*increment_period*(2*increment + (increment_period-1)*increment)*(1/2)):.2f}\") # 投资总额的变化需要考虑到定投金额是一个等差数列"
   ],
   "metadata": {
    "colab": {
     "base_uri": "https://localhost:8080/"
    },
    "id": "TrOm6xYBkYzr",
    "executionInfo": {
     "status": "ok",
     "timestamp": 1720179154816,
     "user_tz": -540,
     "elapsed": 844,
     "user": {
      "displayName": "M Z",
      "userId": "02992394479283828686"
     }
    },
    "outputId": "40bd1b7f-d403-4799-8c93-596a0b688e17",
    "ExecuteTime": {
     "end_time": "2024-11-08T09:57:11.712845Z",
     "start_time": "2024-11-08T09:57:11.709817Z"
    }
   },
   "execution_count": 88,
   "outputs": [
    {
     "name": "stdout",
     "output_type": "stream",
     "text": [
      "经过20年的总余额是： 7249.87 \n",
      " 共盈利 4849.87\n"
     ]
    }
   ]
  },
  {
   "cell_type": "code",
   "outputs": [
    {
     "name": "stdout",
     "output_type": "stream",
     "text": [
      "每月需要投入 14.05\n"
     ]
    }
   ],
   "source": [
    "print(f\"每月需要投入 {back_to_present('num', 10000, monthly_return(yearly_return), investment_horizon, monthly_investment, initial_balance):.2f}\")"
   ],
   "metadata": {
    "collapsed": false,
    "ExecuteTime": {
     "end_time": "2024-11-08T09:57:11.716334Z",
     "start_time": "2024-11-08T09:57:11.713771Z"
    }
   },
   "execution_count": 89
  }
 ]
}
