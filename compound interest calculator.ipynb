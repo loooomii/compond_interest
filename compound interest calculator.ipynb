{
 "nbformat": 4,
 "nbformat_minor": 0,
 "metadata": {
  "colab": {
   "provenance": [],
   "authorship_tag": "ABX9TyPG2AUAzeXvacFUXXNkcd4c"
  },
  "kernelspec": {
   "name": "python3",
   "language": "python",
   "display_name": "Python 3 (ipykernel)"
  },
  "language_info": {
   "name": "python"
  }
 },
 "cells": [
  {
   "cell_type": "code",
   "source": [
    "import numpy as np\n",
    "import pandas as pd\n",
    "import math"
   ],
   "metadata": {
    "id": "Yz76nwUniZcL",
    "executionInfo": {
     "status": "ok",
     "timestamp": 1720177078366,
     "user_tz": -540,
     "elapsed": 426,
     "user": {
      "displayName": "M Z",
      "userId": "02992394479283828686"
     }
    },
    "ExecuteTime": {
     "end_time": "2024-07-06T06:29:37.588526Z",
     "start_time": "2024-07-06T06:29:37.585391Z"
    }
   },
   "execution_count": 16,
   "outputs": []
  },
  {
   "cell_type": "code",
   "execution_count": 17,
   "metadata": {
    "id": "aD_zUXsWiHxq",
    "executionInfo": {
     "status": "ok",
     "timestamp": 1720177768419,
     "user_tz": -540,
     "elapsed": 435,
     "user": {
      "displayName": "M Z",
      "userId": "02992394479283828686"
     }
    },
    "ExecuteTime": {
     "end_time": "2024-07-06T06:29:37.604248Z",
     "start_time": "2024-07-06T06:29:37.601339Z"
    }
   },
   "outputs": [],
   "source": [
    "def monthly_return(return_yearly:float):\n",
    "  \"\"\"\n",
    "  Calculate the monthly return of an expected yearly return.\n",
    "  \"\"\"\n",
    "  return pow(1 + return_yearly, 1 / 12) - 1"
   ]
  },
  {
   "cell_type": "code",
   "source": [
    "def automatic_investment(return_monthly: float, investment_monthly: float, horizon: float, initial_balance: float = 0):\n",
    "  \"\"\"\n",
    "  Calculate the balance after a certain period of time with a certain monthly investment and monthly return.\n",
    "  suppose the investment is made at the start of each month.\n",
    "  \n",
    "  initial_balance: default 0.\n",
    "  \n",
    "  \"\"\"\n",
    "  month_num = horizon * 12\n",
    "  balance = initial_balance + investment_monthly\n",
    "\n",
    "  for i in range(month_num):\n",
    "    balance = balance * (1 + return_monthly) + investment_monthly\n",
    "\n",
    "  return balance"
   ],
   "metadata": {
    "id": "sWIb1s3Vi9nY",
    "executionInfo": {
     "status": "ok",
     "timestamp": 1720178883030,
     "user_tz": -540,
     "elapsed": 437,
     "user": {
      "displayName": "M Z",
      "userId": "02992394479283828686"
     }
    },
    "ExecuteTime": {
     "end_time": "2024-07-06T06:29:37.618577Z",
     "start_time": "2024-07-06T06:29:37.614228Z"
    }
   },
   "execution_count": 18,
   "outputs": []
  },
  {
   "cell_type": "code",
   "outputs": [],
   "source": [
    "def back_to_present(target:str, target_value: float, return_monthly: float, horizon: float, investment_monthly: float = 0, initial_balance: float = 0):\n",
    "  \"\"\"\n",
    "  Calculate the monthly investment value or expected monthly return.\n",
    "  suppose the investment is made at the start of each month.\n",
    "  \n",
    "  \"\"\"\n",
    "  # 要求return_monthly or investment monthly\n",
    "  month_num = horizon * 12\n",
    "  \n",
    "  if target == \"num\":\n",
    "    monthly_num = (target_value - initial_balance * pow(1 + return_monthly, month_num)) * \\\n",
    "                  return_monthly / (pow(1 + return_monthly, month_num - 1) - 1)\n",
    "    return monthly_num\n",
    "    \n",
    "  elif target == \"rate\":\n",
    "    pass\n",
    "  \n",
    "  else:\n",
    "    raise ValueError(\"target should be either 'num' or 'rate'\")\n",
    "    \n",
    "  "
   ],
   "metadata": {
    "collapsed": false,
    "ExecuteTime": {
     "end_time": "2024-07-06T06:29:37.624110Z",
     "start_time": "2024-07-06T06:29:37.620253Z"
    }
   },
   "execution_count": 19
  },
  {
   "cell_type": "code",
   "outputs": [],
   "source": [
    "def time_to_target(target_value: float, return_monthly: float, investment_monthly: float, init: float = 0):\n",
    "  \"\"\"\n",
    "  Calculate the time needed to reach the target value with a certain monthly investment and monthly return.\n",
    "  suppose the investment is made at the start of each month.\n",
    "  \n",
    "  init: default 0.\n",
    "  \n",
    "  \"\"\"\n",
    "  month_num = 0\n",
    "  balance = init\n",
    "\n",
    "  while balance < target_value:\n",
    "    balance = balance * (1 + return_monthly) + investment_monthly\n",
    "    month_num += 1\n",
    "\n",
    "  return month_num/12"
   ],
   "metadata": {
    "collapsed": false,
    "ExecuteTime": {
     "end_time": "2024-07-31T03:03:56.424674Z",
     "start_time": "2024-07-31T03:03:56.400699Z"
    }
   },
   "execution_count": 1
  },
  {
   "cell_type": "code",
   "source": [
    "yearly_return = 0.20\n",
    "investment_horizon = 20\n",
    "monthly_investment = 10\n",
    "initial_balance = 0"
   ],
   "metadata": {
    "id": "67MkiL2Ao23w",
    "executionInfo": {
     "status": "ok",
     "timestamp": 1720179151219,
     "user_tz": -540,
     "elapsed": 441,
     "user": {
      "displayName": "M Z",
      "userId": "02992394479283828686"
     }
    },
    "ExecuteTime": {
     "end_time": "2024-07-06T06:29:37.627883Z",
     "start_time": "2024-07-06T06:29:37.625076Z"
    }
   },
   "execution_count": 20,
   "outputs": []
  },
  {
   "cell_type": "code",
   "source": [
    "print(f\"经过20年的总余额是： {automatic_investment(monthly_return(yearly_return), monthly_investment, investment_horizon):.2f} \\n \\\n",
    "共盈利 {automatic_investment(monthly_return(yearly_return), monthly_investment, investment_horizon) - investment_horizon*12*monthly_investment:.2f}\")"
   ],
   "metadata": {
    "colab": {
     "base_uri": "https://localhost:8080/"
    },
    "id": "TrOm6xYBkYzr",
    "executionInfo": {
     "status": "ok",
     "timestamp": 1720179154816,
     "user_tz": -540,
     "elapsed": 844,
     "user": {
      "displayName": "M Z",
      "userId": "02992394479283828686"
     }
    },
    "outputId": "40bd1b7f-d403-4799-8c93-596a0b688e17",
    "ExecuteTime": {
     "end_time": "2024-07-06T06:29:37.633103Z",
     "start_time": "2024-07-06T06:29:37.630443Z"
    }
   },
   "execution_count": 21,
   "outputs": [
    {
     "name": "stdout",
     "output_type": "stream",
     "text": [
      "经过20年的总余额是： 24771.94 \n",
      " 共盈利 22371.94\n"
     ]
    }
   ]
  },
  {
   "cell_type": "code",
   "outputs": [
    {
     "name": "stdout",
     "output_type": "stream",
     "text": [
      "每月需要投入 4.16\n"
     ]
    }
   ],
   "source": [
    "print(f\"每月需要投入 {back_to_present('num', 10000, monthly_return(yearly_return), investment_horizon, monthly_investment, initial_balance):.2f}\")"
   ],
   "metadata": {
    "collapsed": false,
    "ExecuteTime": {
     "end_time": "2024-07-06T06:29:37.637582Z",
     "start_time": "2024-07-06T06:29:37.634742Z"
    }
   },
   "execution_count": 22
  },
  {
   "cell_type": "code",
   "outputs": [],
   "source": [],
   "metadata": {
    "collapsed": false,
    "ExecuteTime": {
     "end_time": "2024-07-06T06:29:37.640829Z",
     "start_time": "2024-07-06T06:29:37.638600Z"
    }
   },
   "execution_count": 22
  }
 ]
}
